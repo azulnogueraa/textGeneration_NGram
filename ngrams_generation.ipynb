{
 "cells": [
  {
   "cell_type": "markdown",
   "metadata": {},
   "source": [
    "# Generación de texto con N-gramas"
   ]
  },
  {
   "cell_type": "markdown",
   "metadata": {},
   "source": [
    "**Paso 1: Cargar el Archivo de Texto Limpio**"
   ]
  },
  {
   "cell_type": "code",
   "execution_count": 43,
   "metadata": {},
   "outputs": [],
   "source": [
    "# Cargar el texto limpio en una variable\n",
    "with open('corpus_argentina_limpio.txt', 'r', encoding='utf-8') as file:\n",
    "    text = file.read()"
   ]
  },
  {
   "cell_type": "markdown",
   "metadata": {},
   "source": [
    "**Paso 2: Tokenización del Texto**"
   ]
  },
  {
   "cell_type": "code",
   "execution_count": 49,
   "metadata": {},
   "outputs": [
    {
     "name": "stdout",
     "output_type": "stream",
     "text": [
      "Tokens con puntuación: ['corazón', 'es', 'un', 'orgullo', 'que', 'no', 'se', 'puede', 'comparar', '.']\n"
     ]
    }
   ],
   "source": [
    "import re\n",
    "\n",
    "# Incluir signos de puntuación en la tokenización\n",
    "tokens = re.findall(r'\\b\\w+\\b|[.!?]', text.lower())\n",
    "print(\"Tokens con puntuación:\", tokens[-10:])\n"
   ]
  },
  {
   "cell_type": "markdown",
   "metadata": {},
   "source": [
    "**Paso 3: Construcción del Modelo de N-Gramas**"
   ]
  },
  {
   "cell_type": "code",
   "execution_count": 50,
   "metadata": {},
   "outputs": [],
   "source": [
    "from collections import defaultdict, Counter\n",
    "\n",
    "n = 3  # Cambia a trigramas\n",
    "\n",
    "# Crear el modelo de trigramas\n",
    "model = defaultdict(Counter)\n",
    "\n",
    "for i in range(len(tokens) - n + 1):\n",
    "    gram = tuple(tokens[i:i + n - 1])  # Dos primeras palabras como clave\n",
    "    next_word = tokens[i + n - 1]      # La tercera palabra es el objetivo\n",
    "    model[gram][next_word] += 1  # Incrementamos la cuenta para el siguiente token\n"
   ]
  },
  {
   "cell_type": "markdown",
   "metadata": {},
   "source": [
    "**Paso 4: Generación de Texto Basado en el Modelo**"
   ]
  },
  {
   "cell_type": "code",
   "execution_count": 61,
   "metadata": {},
   "outputs": [
    {
     "name": "stdout",
     "output_type": "stream",
     "text": [
      "Texto generado: la selección nos da tantas alegrías y verlos jugar con garra y corazón es un orgullo que no para de decir que comamos más no se me queden con hambre che .\n"
     ]
    }
   ],
   "source": [
    "import random\n",
    "\n",
    "def generate_text_with_end(model, starting_words, max_words=50):\n",
    "    result = list(starting_words)\n",
    "    for _ in range(max_words):\n",
    "        state = tuple(result[-2:])  # Últimas dos palabras\n",
    "        if state in model and model[state]:\n",
    "            next_word = random.choices(list(model[state].keys()), weights=model[state].values())[0]\n",
    "            result.append(next_word)\n",
    "            # Finalizar si la palabra generada es un signo de puntuación\n",
    "            if next_word in ['.', '!', '?']:\n",
    "                break\n",
    "        else:\n",
    "            break\n",
    "    return ' '.join(result)\n",
    "\n",
    "# Probar la generación con finalización automática\n",
    "starting_words = (\"la\", \"selección\")\n",
    "generated_text = generate_text_with_end(model, starting_words, 50)\n",
    "print(\"Texto generado:\", generated_text)\n",
    "\n"
   ]
  },
  {
   "cell_type": "markdown",
   "metadata": {},
   "source": [
    "## Análisis de los Textos Generados"
   ]
  },
  {
   "cell_type": "markdown",
   "metadata": {},
   "source": [
    "**Diversidad léxica**"
   ]
  },
  {
   "cell_type": "code",
   "execution_count": 62,
   "metadata": {},
   "outputs": [
    {
     "name": "stdout",
     "output_type": "stream",
     "text": [
      "Texto generado\n",
      "la selección está jugando cada vez que jugó argentina armamos un asado en casa de los pasageros se salvaron permaneciendo\n",
      "a bordo hasta que no para de sonar . otro día en el mundo de las birras eh el sol\n",
      "pegaba fuerte y el diario . en la parrilla el viejo siempre se luce con su asado . está a\n",
      "full con laburo parece que lo ascendieron . ah mirá vos . y siempre alguno se manda alguna anécdota que\n",
      "hace reír a todos especialmente cuando el árbitro pitó el final el resultado estaba de nuestro lado . era cheel\n",
      "\n",
      "Diversidad léxica: 0.71 \n",
      "\n"
     ]
    }
   ],
   "source": [
    "def lexical_diversity(text):\n",
    "    words = text.split()\n",
    "    unique_words = set(words)\n",
    "    return len(unique_words) / len(words)\n",
    "\n",
    "def generate_text_fixed_length(model, starting_words, num_words=50):\n",
    "    result = list(starting_words)\n",
    "    for _ in range(num_words - len(starting_words)):  # Ajustamos para alcanzar exactamente `num_words`\n",
    "        state = tuple(result[-2:])  # Últimas dos palabras\n",
    "        if state in model and model[state]:\n",
    "            # Elegir la siguiente palabra basada en las probabilidades del modelo\n",
    "            next_word = random.choices(list(model[state].keys()), weights=model[state].values())[0]\n",
    "            result.append(next_word)\n",
    "        else:\n",
    "            # Si no hay más opciones, reiniciar con un nuevo estado aleatorio\n",
    "            state = random.choice(list(model.keys()))\n",
    "            result.extend(state)\n",
    "    return ' '.join(result[:num_words])  # Limitar la salida exactamente a `num_words`\n",
    "\n",
    "# Dividir el texto en fragmentos para impresión\n",
    "def print_in_chunks(text, chunk_size=20):\n",
    "    words = text.split()\n",
    "    for i in range(0, len(words), chunk_size):\n",
    "        print(' '.join(words[i:i + chunk_size]))\n",
    "\n",
    "\n",
    "\n",
    "# Generar texto de muestra y calcular la diversidad léxica (español)\n",
    "starting_words = (\"la\", \"selección\")\n",
    "sample_text = generate_text_fixed_length(model, starting_words, 100)  # Genera exactamente 100 palabras\n",
    "diversity = lexical_diversity(sample_text)\n",
    "\n",
    "print(\"Texto generado\")\n",
    "print_in_chunks(sample_text)\n",
    "print(\"\\nDiversidad léxica:\", diversity, \"\\n\")\n",
    "\n"
   ]
  },
  {
   "cell_type": "markdown",
   "metadata": {},
   "source": [
    "**Longitud promedio de las oraciones**"
   ]
  },
  {
   "cell_type": "code",
   "execution_count": 71,
   "metadata": {},
   "outputs": [
    {
     "name": "stdout",
     "output_type": "stream",
     "text": [
      "Longitud promedio de las oraciones: 13.428571428571429\n"
     ]
    }
   ],
   "source": [
    "def average_sentence_length(text):\n",
    "    sentences = text.split('.')\n",
    "    return sum(len(sentence.split()) for sentence in sentences) / len(sentences)\n",
    "\n",
    "# Calcular la longitud promedio de las oraciones (español)\n",
    "avg_sentence_length_es = average_sentence_length(sample_text)\n",
    "print(\"Longitud promedio de las oraciones:\", avg_sentence_length_es)"
   ]
  },
  {
   "cell_type": "markdown",
   "metadata": {},
   "source": [
    "**Ratio de Repetición**"
   ]
  },
  {
   "cell_type": "code",
   "execution_count": 69,
   "metadata": {},
   "outputs": [
    {
     "name": "stdout",
     "output_type": "stream",
     "text": [
      "Ratio de repetición: 0.13\n"
     ]
    }
   ],
   "source": [
    "from collections import Counter\n",
    "\n",
    "def repetition_ratio(text):\n",
    "    words = text.split()\n",
    "    word_counts = Counter(words)\n",
    "    repeated_words = sum(1 for count in word_counts.values() if count > 1)\n",
    "    return repeated_words / len(words)\n",
    "\n",
    "# Ratio de repetición para el texto \n",
    "repetition = repetition_ratio(sample_text)\n",
    "print(\"Ratio de repetición:\", repetition)\n"
   ]
  },
  {
   "cell_type": "markdown",
   "metadata": {},
   "source": [
    "**Cantidad de Palabras Únicas**"
   ]
  },
  {
   "cell_type": "code",
   "execution_count": 70,
   "metadata": {},
   "outputs": [
    {
     "name": "stdout",
     "output_type": "stream",
     "text": [
      "Cantidad de palabras únicas: 71\n"
     ]
    }
   ],
   "source": [
    "def unique_words_count(text):\n",
    "    words = text.split()\n",
    "    unique_words = set(words)\n",
    "    return len(unique_words)\n",
    "\n",
    "# Cantidad de palabras únicas en español e inglés\n",
    "unique_words = unique_words_count(sample_text)\n",
    "print(\"Cantidad de palabras únicas:\", unique_words)\n",
    "\n"
   ]
  }
 ],
 "metadata": {
  "kernelspec": {
   "display_name": "cell_detection",
   "language": "python",
   "name": "python3"
  },
  "language_info": {
   "codemirror_mode": {
    "name": "ipython",
    "version": 3
   },
   "file_extension": ".py",
   "mimetype": "text/x-python",
   "name": "python",
   "nbconvert_exporter": "python",
   "pygments_lexer": "ipython3",
   "version": "3.8.20"
  }
 },
 "nbformat": 4,
 "nbformat_minor": 2
}
