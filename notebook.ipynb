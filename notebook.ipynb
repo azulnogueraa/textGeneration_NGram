{
 "cells": [
  {
   "cell_type": "markdown",
   "metadata": {},
   "source": [
    "# Trabajo Práctico 3 - Lenguaje"
   ]
  },
  {
   "cell_type": "markdown",
   "metadata": {},
   "source": [
    "## Conseguir y limpiar un corpus de textos en algún idioma y dominio de interés."
   ]
  },
  {
   "cell_type": "code",
   "execution_count": 1,
   "metadata": {},
   "outputs": [],
   "source": [
    "import re\n",
    "\n",
    "# Función para cargar el archivo de texto\n",
    "def load_text(filename):\n",
    "    with open(filename, 'r', encoding='utf-8') as file:\n",
    "        text = file.read()\n",
    "    return text\n",
    "\n",
    "# Función para limpiar el texto\n",
    "def clean_text(text):\n",
    "    # Eliminar contenido entre corchetes\n",
    "    text = re.sub(r'\\[.*?\\]', '', text)\n",
    "    \n",
    "    # Convertir texto a minúsculas\n",
    "    text = text.lower()\n",
    "    \n",
    "    # Eliminar puntuación, excepto puntos finales que delimitan oraciones\n",
    "    text = re.sub(r'[^\\w\\s\\.]', '', text)\n",
    "    \n",
    "    # Opcional: eliminar números si no son relevantes\n",
    "    text = re.sub(r'\\d+', '', text)\n",
    "    \n",
    "    # Eliminar espacios adicionales\n",
    "    text = re.sub(r'\\s+', ' ', text).strip()\n",
    "    \n",
    "    return text\n",
    "\n",
    "# Cargar el texto\n",
    "filename = 'opensubtitles_es.txt'\n",
    "raw_text = load_text(filename)\n",
    "\n",
    "# Limpiar el texto\n",
    "cleaned_text = clean_text(raw_text)\n",
    "\n",
    "# Guardar el texto limpio\n",
    "with open('opensubtitles_es_limpio.txt', 'w', encoding='utf-8') as file:\n",
    "    file.write(cleaned_text)"
   ]
  },
  {
   "cell_type": "markdown",
   "metadata": {},
   "source": [
    "## Programación del Modelo de N-gramas"
   ]
  },
  {
   "cell_type": "markdown",
   "metadata": {},
   "source": [
    "**Paso 1: Cargar el Archivo de Texto Limpio**"
   ]
  },
  {
   "cell_type": "code",
   "execution_count": 2,
   "metadata": {},
   "outputs": [],
   "source": [
    "# Cargar el texto limpio en una variable\n",
    "with open('opensubtitles_es_limpio.txt', 'r', encoding='utf-8') as file:\n",
    "    text = file.read()"
   ]
  },
  {
   "cell_type": "markdown",
   "metadata": {},
   "source": [
    "**Paso 2: Tokenización del Texto**"
   ]
  },
  {
   "cell_type": "code",
   "execution_count": null,
   "metadata": {},
   "outputs": [],
   "source": [
    "import re\n",
    "\n",
    "# Incluir signos de puntuación en la tokenización\n",
    "tokens = re.findall(r'\\b\\w+\\b|[.!?]', text.lower())\n",
    "print(\"Tokens con puntuación:\", tokens[:10])"
   ]
  },
  {
   "cell_type": "markdown",
   "metadata": {},
   "source": [
    "**Paso 3: Construcción del Modelo de N-Gramas**"
   ]
  },
  {
   "cell_type": "code",
   "execution_count": null,
   "metadata": {},
   "outputs": [],
   "source": [
    "from collections import defaultdict, Counter\n",
    "\n",
    "# Crear el modelo de bigramas\n",
    "model = defaultdict(Counter)\n",
    "\n",
    "n = 3  # Cambia a trigramas\n",
    "\n",
    "# Crear el modelo de trigramas\n",
    "model = defaultdict(Counter)\n",
    "\n",
    "for i in range(len(tokens) - n + 1):\n",
    "    gram = tuple(tokens[i:i + n - 1])  # Dos primeras palabras como clave\n",
    "    next_word = tokens[i + n - 1]      # La tercera palabra es el objetivo\n",
    "    model[gram][next_word] += 1  # Incrementamos la cuenta para el siguiente token"
   ]
  },
  {
   "cell_type": "markdown",
   "metadata": {},
   "source": [
    "**Paso 4: Generación de Texto Basado en el Modelo**"
   ]
  },
  {
   "cell_type": "code",
   "execution_count": null,
   "metadata": {},
   "outputs": [
    {
     "ename": "NameError",
     "evalue": "name 'model' is not defined",
     "output_type": "error",
     "traceback": [
      "\u001b[0;31m---------------------------------------------------------------------------\u001b[0m",
      "\u001b[0;31mNameError\u001b[0m                                 Traceback (most recent call last)",
      "Cell \u001b[0;32mIn[1], line 19\u001b[0m\n\u001b[1;32m     17\u001b[0m \u001b[38;5;66;03m# Probar la generación con finalización automática\u001b[39;00m\n\u001b[1;32m     18\u001b[0m starting_words \u001b[38;5;241m=\u001b[39m (\u001b[38;5;124m\"\u001b[39m\u001b[38;5;124mpero\u001b[39m\u001b[38;5;124m\"\u001b[39m, \u001b[38;5;124m\"\u001b[39m\u001b[38;5;124mno\u001b[39m\u001b[38;5;124m\"\u001b[39m)\n\u001b[0;32m---> 19\u001b[0m generated_text \u001b[38;5;241m=\u001b[39m generate_text_with_end(\u001b[43mmodel\u001b[49m, starting_words, \u001b[38;5;241m50\u001b[39m)\n\u001b[1;32m     20\u001b[0m \u001b[38;5;28mprint\u001b[39m(\u001b[38;5;124m\"\u001b[39m\u001b[38;5;124mTexto generado:\u001b[39m\u001b[38;5;124m\"\u001b[39m, generated_text)\n",
      "\u001b[0;31mNameError\u001b[0m: name 'model' is not defined"
     ]
    }
   ],
   "source": [
    "import random\n",
    "\n",
    "def generate_text_with_end(model, starting_words, max_words=50):\n",
    "    result = list(starting_words)\n",
    "    for _ in range(max_words):\n",
    "        state = tuple(result[-2:])  # Últimas dos palabras\n",
    "        if state in model and model[state]:\n",
    "            next_word = random.choices(list(model[state].keys()), weights=model[state].values())[0]\n",
    "            result.append(next_word)\n",
    "            # Finalizar si la palabra generada es un signo de puntuación\n",
    "            if next_word in ['.', '!', '?']:\n",
    "                break\n",
    "        else:\n",
    "            break\n",
    "    return ' '.join(result)\n",
    "\n",
    "# Probar la generación con finalización automática\n",
    "starting_words = (\"pero\", \"no\")\n",
    "generated_text = generate_text_with_end(model, starting_words, 50)\n",
    "print(\"Texto generado:\", generated_text)"
   ]
  },
  {
   "cell_type": "markdown",
   "metadata": {},
   "source": [
    "## Análisis de los Textos Generados"
   ]
  },
  {
   "cell_type": "code",
   "execution_count": null,
   "metadata": {},
   "outputs": [
    {
     "name": "stdout",
     "output_type": "stream",
     "text": [
      "Texto generado:\n",
      "es muy poslble que alguien intentaba matarme . los corredores de apuestas . te veo en el rodeo . sobre\n",
      "que todo sea mucho más . supongamos que . . . . . y los cuchillos . quiero que me\n",
      "deshice de ellos quedara . y me alegro de verles caballeros . ei impacto tuvo la primera persona del reparto\n",
      "con problemas . será mejor que hables aunque tenga que decir acerca de mí . o . . . .\n",
      ". . . para ti . srta . está bien . ella estaba otra vez . despejen . listo dale\n",
      "\n",
      "Diversidad léxica: 0.64\n"
     ]
    }
   ],
   "source": [
    "def lexical_diversity(text):\n",
    "    words = text.split()\n",
    "    unique_words = set(words)\n",
    "    return len(unique_words) / len(words)\n",
    "\n",
    "def generate_text_fixed_length(model, starting_words, num_words=50):\n",
    "    result = list(starting_words)\n",
    "    for _ in range(num_words - len(starting_words)):  # Ajustamos para alcanzar exactamente `num_words`\n",
    "        state = tuple(result[-2:])  # Últimas dos palabras\n",
    "        if state in model and model[state]:\n",
    "            # Elegir la siguiente palabra basada en las probabilidades del modelo\n",
    "            next_word = random.choices(list(model[state].keys()), weights=model[state].values())[0]\n",
    "            result.append(next_word)\n",
    "        else:\n",
    "            # Si no hay más opciones, reiniciar con un nuevo estado aleatorio\n",
    "            state = random.choice(list(model.keys()))\n",
    "            result.extend(state)\n",
    "    return ' '.join(result[:num_words])  # Limitar la salida exactamente a `num_words`\n",
    "\n",
    "# Dividir el texto en fragmentos para impresión\n",
    "def print_in_chunks(text, chunk_size=20):\n",
    "    words = text.split()\n",
    "    for i in range(0, len(words), chunk_size):\n",
    "        print(' '.join(words[i:i + chunk_size]))\n",
    "\n",
    "\n",
    "\n",
    "# Generar texto de muestra y calcular la diversidad léxica\n",
    "starting_words = (\"es\", \"muy\")\n",
    "sample_text = generate_text_fixed_length(model, starting_words, 100)  # Genera exactamente 100 palabras\n",
    "diversity = lexical_diversity(sample_text)\n",
    "\n",
    "print(\"Texto generado:\")\n",
    "print_in_chunks(sample_text)\n",
    "print(\"\\nDiversidad léxica:\", diversity)"
   ]
  },
  {
   "cell_type": "code",
   "execution_count": null,
   "metadata": {},
   "outputs": [
    {
     "name": "stdout",
     "output_type": "stream",
     "text": [
      "Longitud promedio de las oraciones: 2.740740740740741\n"
     ]
    }
   ],
   "source": [
    "def average_sentence_length(text):\n",
    "    sentences = text.split('.')\n",
    "    return sum(len(sentence.split()) for sentence in sentences) / len(sentences)\n",
    "\n",
    "# Calcular la longitud promedio de las oraciones\n",
    "avg_sentence_length = average_sentence_length(sample_text)\n",
    "print(\"Longitud promedio de las oraciones:\", avg_sentence_length)"
   ]
  }
 ],
 "metadata": {
  "kernelspec": {
   "display_name": "cell_detection",
   "language": "python",
   "name": "python3"
  },
  "language_info": {
   "codemirror_mode": {
    "name": "ipython",
    "version": 3
   },
   "file_extension": ".py",
   "mimetype": "text/x-python",
   "name": "python",
   "nbconvert_exporter": "python",
   "pygments_lexer": "ipython3",
   "version": "3.8.20"
  }
 },
 "nbformat": 4,
 "nbformat_minor": 2
}
